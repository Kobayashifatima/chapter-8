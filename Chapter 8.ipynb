{
 "cells": [
  {
   "cell_type": "markdown",
   "id": "15c3e521",
   "metadata": {},
   "source": [
    "# Chapter 8"
   ]
  },
  {
   "cell_type": "markdown",
   "id": "8331c9d8",
   "metadata": {},
   "source": [
    "Lists"
   ]
  },
  {
   "cell_type": "code",
   "execution_count": 1,
   "id": "f9c8275d",
   "metadata": {},
   "outputs": [
    {
     "name": "stdout",
     "output_type": "stream",
     "text": [
      "[1, 2, 3, 4, 5]\n"
     ]
    }
   ],
   "source": [
    "# Creating a list of numbers\n",
    "numbers = [1, 2, 3, 4, 5]\n",
    "print(numbers)\n"
   ]
  },
  {
   "cell_type": "code",
   "execution_count": 2,
   "id": "62d05f6b",
   "metadata": {},
   "outputs": [
    {
     "name": "stdout",
     "output_type": "stream",
     "text": [
      "apple\n",
      "banana\n",
      "date\n"
     ]
    }
   ],
   "source": [
    "# Accessing elements in a list\n",
    "fruits = ['apple', 'banana', 'cherry', 'date']\n",
    "\n",
    "# Accessing individual elements by index\n",
    "first_fruit = fruits[0]\n",
    "second_fruit = fruits[1]\n",
    "\n",
    "# Accessing elements from the end using negative index\n",
    "last_fruit = fruits[-1]\n",
    "\n",
    "print(first_fruit)\n",
    "print(second_fruit)\n",
    "print(last_fruit)\n"
   ]
  },
  {
   "cell_type": "code",
   "execution_count": 3,
   "id": "3dbc721a",
   "metadata": {},
   "outputs": [
    {
     "name": "stdout",
     "output_type": "stream",
     "text": [
      "['red', 'yellow', 'blue', 'purple']\n"
     ]
    }
   ],
   "source": [
    "# Modifying list elements\n",
    "colors = ['red', 'green', 'blue']\n",
    "\n",
    "# Changing an element at a specific index\n",
    "colors[1] = 'yellow'\n",
    "\n",
    "# Appending an element to the end of the list\n",
    "colors.append('purple')\n",
    "\n",
    "print(colors)\n"
   ]
  },
  {
   "cell_type": "code",
   "execution_count": 4,
   "id": "608810b6",
   "metadata": {},
   "outputs": [
    {
     "name": "stdout",
     "output_type": "stream",
     "text": [
      "cat\n",
      "dog\n",
      "elephant\n",
      "giraffe\n"
     ]
    }
   ],
   "source": [
    "# Iterating through a list using a for loop\n",
    "animals = ['cat', 'dog', 'elephant', 'giraffe']\n",
    "\n",
    "for animal in animals:\n",
    "    print(animal)\n"
   ]
  },
  {
   "cell_type": "code",
   "execution_count": 5,
   "id": "91ba08ce",
   "metadata": {},
   "outputs": [
    {
     "name": "stdout",
     "output_type": "stream",
     "text": [
      "[3, 4, 5]\n"
     ]
    }
   ],
   "source": [
    "# Slicing a list to extract a portion\n",
    "numbers = [1, 2, 3, 4, 5, 6, 7, 8, 9]\n",
    "\n",
    "# Extracting a slice from index 2 to 5 (exclusive)\n",
    "subset = numbers[2:5]\n",
    "\n",
    "print(subset)\n"
   ]
  },
  {
   "cell_type": "code",
   "execution_count": 6,
   "id": "fc857bc6",
   "metadata": {},
   "outputs": [
    {
     "name": "stdout",
     "output_type": "stream",
     "text": [
      "[2, 4, 6, 8, 10]\n"
     ]
    }
   ],
   "source": [
    "# Using list comprehension to create a new list\n",
    "even_numbers = [x for x in range(1, 11) if x % 2 == 0]\n",
    "\n",
    "print(even_numbers)\n"
   ]
  },
  {
   "cell_type": "code",
   "execution_count": null,
   "id": "296d004b",
   "metadata": {},
   "outputs": [],
   "source": []
  }
 ],
 "metadata": {
  "kernelspec": {
   "display_name": "Python 3 (ipykernel)",
   "language": "python",
   "name": "python3"
  },
  "language_info": {
   "codemirror_mode": {
    "name": "ipython",
    "version": 3
   },
   "file_extension": ".py",
   "mimetype": "text/x-python",
   "name": "python",
   "nbconvert_exporter": "python",
   "pygments_lexer": "ipython3",
   "version": "3.11.4"
  }
 },
 "nbformat": 4,
 "nbformat_minor": 5
}
